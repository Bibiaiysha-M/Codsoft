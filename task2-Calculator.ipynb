{
 "cells": [
  {
   "cell_type": "code",
   "execution_count": null,
   "id": "bcce300d-e8fe-4b14-a3e0-11fd054ddfc3",
   "metadata": {},
   "outputs": [
    {
     "name": "stdout",
     "output_type": "stream",
     "text": [
      "welcome\n"
     ]
    },
    {
     "name": "stdin",
     "output_type": "stream",
     "text": [
      "enter the operation you want to perform\n",
      "1.Addition\n",
      "2.Substraction\n",
      "3.Multiplication\n",
      "4.Division\n",
      "5.Modulus\n",
      "\n",
      " 1\n",
      "enter the first number\n",
      " 2\n",
      "enter the second number\n",
      " 3\n"
     ]
    },
    {
     "name": "stdout",
     "output_type": "stream",
     "text": [
      "Addition is\n",
      " 5.0\n"
     ]
    },
    {
     "name": "stdin",
     "output_type": "stream",
     "text": [
      "enter the operation you want to perform\n",
      "1.Addition\n",
      "2.Substraction\n",
      "3.Multiplication\n",
      "4.Division\n",
      "5.Modulus\n",
      "\n",
      " 2\n",
      "enter the first number\n",
      " 10\n",
      "enter the second number\n",
      " 5\n"
     ]
    },
    {
     "name": "stdout",
     "output_type": "stream",
     "text": [
      "Substraction is\n",
      " 5.0\n"
     ]
    },
    {
     "name": "stdin",
     "output_type": "stream",
     "text": [
      "enter the operation you want to perform\n",
      "1.Addition\n",
      "2.Substraction\n",
      "3.Multiplication\n",
      "4.Division\n",
      "5.Modulus\n",
      "\n",
      " 3\n",
      "enter the first number\n",
      " 2\n",
      "enter the second number\n",
      " 3\n"
     ]
    },
    {
     "name": "stdout",
     "output_type": "stream",
     "text": [
      "Multiplication is\n",
      " 6.0\n"
     ]
    },
    {
     "name": "stdin",
     "output_type": "stream",
     "text": [
      "enter the operation you want to perform\n",
      "1.Addition\n",
      "2.Substraction\n",
      "3.Multiplication\n",
      "4.Division\n",
      "5.Modulus\n",
      "\n",
      " 4\n",
      "enter the first number\n",
      " 10\n",
      "enter the second number\n",
      " 5\n"
     ]
    },
    {
     "name": "stdout",
     "output_type": "stream",
     "text": [
      "Division is\n",
      " 2.0\n"
     ]
    },
    {
     "name": "stdin",
     "output_type": "stream",
     "text": [
      "enter the operation you want to perform\n",
      "1.Addition\n",
      "2.Substraction\n",
      "3.Multiplication\n",
      "4.Division\n",
      "5.Modulus\n",
      "\n",
      " 5\n",
      "enter the first number\n",
      " 50\n",
      "enter the second number\n",
      " 2\n"
     ]
    },
    {
     "name": "stdout",
     "output_type": "stream",
     "text": [
      "Modulus is\n",
      " 0.0\n"
     ]
    }
   ],
   "source": [
    "print('welcome')\n",
    "while True:\n",
    "    operation = float(input('enter the operation you want to perform\\n1.Addition\\n2.Substraction\\n3.Multiplication\\n4.Division\\n5.Modulus\\n\\n'))\n",
    "\n",
    "    if operation ==6:\n",
    "        print('exit\\n')\n",
    "        break\n",
    "    num1 = float(input('enter the first number\\n'))\n",
    "    num2 = float(input('enter the second number\\n'))\n",
    "    if operation == 1:\n",
    "        print('Addition is\\n', num1+num2)\n",
    "    elif operation == 2:\n",
    "        print('Substraction is\\n', num1-num2)\n",
    "    elif operation == 3:\n",
    "         print('Multiplication is\\n', num1*num2)\n",
    "    elif operation == 4:\n",
    "         print('Division is\\n', num1/num2)\n",
    "    elif operation == 5:\n",
    "         print('Modulus is\\n', num1%num2)\n",
    "    elif operation != (1,2,3,4,5):\n",
    "        print('invalid input')\n",
    "print('thankyou')\n"
   ]
  }
 ],
 "metadata": {
  "kernelspec": {
   "display_name": "Python 3 (ipykernel)",
   "language": "python",
   "name": "python3"
  },
  "language_info": {
   "codemirror_mode": {
    "name": "ipython",
    "version": 3
   },
   "file_extension": ".py",
   "mimetype": "text/x-python",
   "name": "python",
   "nbconvert_exporter": "python",
   "pygments_lexer": "ipython3",
   "version": "3.12.0"
  }
 },
 "nbformat": 4,
 "nbformat_minor": 5
}
