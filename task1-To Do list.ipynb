{
 "cells": [
  {
   "cell_type": "code",
   "execution_count": 1,
   "id": "364502dd-b320-486f-82b7-eca867d8f821",
   "metadata": {},
   "outputs": [
    {
     "name": "stdout",
     "output_type": "stream",
     "text": [
      "\n",
      " what would u like to do?\n",
      "1.add task\n",
      "2.remove task\n",
      "3.view task\n",
      "4.exit\n"
     ]
    },
    {
     "name": "stdin",
     "output_type": "stream",
     "text": [
      "enter your choice (1/2/3/4) 1\n",
      "enter ur task: homework\n"
     ]
    },
    {
     "name": "stdout",
     "output_type": "stream",
     "text": [
      "task added successfully\n",
      "{'homework'}\n",
      "\n",
      " what would u like to do?\n",
      "1.add task\n",
      "2.remove task\n",
      "3.view task\n",
      "4.exit\n"
     ]
    },
    {
     "name": "stdin",
     "output_type": "stream",
     "text": [
      "enter your choice (1/2/3/4) 1\n",
      "enter ur task: assignment\n"
     ]
    },
    {
     "name": "stdout",
     "output_type": "stream",
     "text": [
      "task added successfully\n",
      "{'assignment', 'homework'}\n",
      "\n",
      " what would u like to do?\n",
      "1.add task\n",
      "2.remove task\n",
      "3.view task\n",
      "4.exit\n"
     ]
    },
    {
     "name": "stdin",
     "output_type": "stream",
     "text": [
      "enter your choice (1/2/3/4) 1\n",
      "enter ur task: notes\n"
     ]
    },
    {
     "name": "stdout",
     "output_type": "stream",
     "text": [
      "task added successfully\n",
      "{'assignment', 'notes', 'homework'}\n",
      "\n",
      " what would u like to do?\n",
      "1.add task\n",
      "2.remove task\n",
      "3.view task\n",
      "4.exit\n"
     ]
    },
    {
     "name": "stdin",
     "output_type": "stream",
     "text": [
      "enter your choice (1/2/3/4) 1\n",
      "enter ur task: exercise\n"
     ]
    },
    {
     "name": "stdout",
     "output_type": "stream",
     "text": [
      "task added successfully\n",
      "{'assignment', 'notes', 'homework', 'exercise'}\n",
      "\n",
      " what would u like to do?\n",
      "1.add task\n",
      "2.remove task\n",
      "3.view task\n",
      "4.exit\n"
     ]
    },
    {
     "name": "stdin",
     "output_type": "stream",
     "text": [
      "enter your choice (1/2/3/4) 2\n",
      "enter task to remove: homework\n"
     ]
    },
    {
     "name": "stdout",
     "output_type": "stream",
     "text": [
      "task removed successfully\n",
      "{'assignment', 'notes', 'exercise'}\n",
      "\n",
      " what would u like to do?\n",
      "1.add task\n",
      "2.remove task\n",
      "3.view task\n",
      "4.exit\n"
     ]
    },
    {
     "name": "stdin",
     "output_type": "stream",
     "text": [
      "enter your choice (1/2/3/4) 3\n"
     ]
    },
    {
     "name": "stdout",
     "output_type": "stream",
     "text": [
      "your to do list:\n",
      "1.assignment\n",
      "2.notes\n",
      "3.exercise\n",
      "\n",
      " what would u like to do?\n",
      "1.add task\n",
      "2.remove task\n",
      "3.view task\n",
      "4.exit\n"
     ]
    },
    {
     "name": "stdin",
     "output_type": "stream",
     "text": [
      "enter your choice (1/2/3/4) 4\n"
     ]
    },
    {
     "name": "stdout",
     "output_type": "stream",
     "text": [
      "exit program\n"
     ]
    }
   ],
   "source": [
    "tasks = set()\n",
    "while True:\n",
    "    print(\"\\n what would u like to do?\")\n",
    "    print(\"1.add task\")\n",
    "    print('2.remove task')\n",
    "    print('3.view task')\n",
    "    print('4.exit')\n",
    "    x = input('enter your choice (1/2/3/4)')\n",
    "# for entering task\n",
    "    if x == '1':\n",
    "        task = input('enter ur task:')\n",
    "        tasks.add(task)\n",
    "        print('task added successfully')\n",
    "        print(tasks)\n",
    "# for removing tasks\n",
    "    elif x == '2':\n",
    "        task = input('enter task to remove:')\n",
    "        if task in tasks:\n",
    "            tasks.remove(task)\n",
    "            print('task removed successfully')\n",
    "        else:\n",
    "            print('task not found')\n",
    "        print(tasks)\n",
    "    elif x == '3':\n",
    "        if tasks:\n",
    "            print(\"your to do list:\")\n",
    "            for index, task in enumerate(tasks, start=1):\n",
    "                print(f\"{index}.{task}\")\n",
    "        else:\n",
    "            print('empty')\n",
    "    if x == '4':\n",
    "        print('exit program')\n",
    "        break"
   ]
  },
  {
   "cell_type": "code",
   "execution_count": null,
   "id": "41c509ed-2a92-4ab8-be6e-5224e1aeb06e",
   "metadata": {},
   "outputs": [],
   "source": []
  }
 ],
 "metadata": {
  "kernelspec": {
   "display_name": "Python 3 (ipykernel)",
   "language": "python",
   "name": "python3"
  },
  "language_info": {
   "codemirror_mode": {
    "name": "ipython",
    "version": 3
   },
   "file_extension": ".py",
   "mimetype": "text/x-python",
   "name": "python",
   "nbconvert_exporter": "python",
   "pygments_lexer": "ipython3",
   "version": "3.12.0"
  }
 },
 "nbformat": 4,
 "nbformat_minor": 5
}
